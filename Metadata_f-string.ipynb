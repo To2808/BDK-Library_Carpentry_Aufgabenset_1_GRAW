{
 "cells": [
  {
   "cell_type": "code",
   "execution_count": 2,
   "metadata": {},
   "outputs": [],
   "source": [
    "import urllib.request\n",
    "import json"
   ]
  },
  {
   "cell_type": "code",
   "execution_count": 3,
   "metadata": {},
   "outputs": [],
   "source": [
    "base_url = \"https://eutils.ncbi.nlm.nih.gov/entrez/eutils/esummary.fcgi?db=pubmed&retmode=json&id=\"\n",
    "ID = \"27708327\""
   ]
  },
  {
   "cell_type": "code",
   "execution_count": 4,
   "metadata": {},
   "outputs": [],
   "source": [
    "full_url = base_url + ID"
   ]
  },
  {
   "cell_type": "code",
   "execution_count": 5,
   "metadata": {},
   "outputs": [
    {
     "name": "stdout",
     "output_type": "stream",
     "text": [
      "https://eutils.ncbi.nlm.nih.gov/entrez/eutils/esummary.fcgi?db=pubmed&retmode=json&id=27708327\n"
     ]
    }
   ],
   "source": [
    "print(full_url)"
   ]
  },
  {
   "cell_type": "code",
   "execution_count": 6,
   "metadata": {},
   "outputs": [],
   "source": [
    "ID_json_data = urllib.request.urlopen(full_url).read()"
   ]
  },
  {
   "cell_type": "code",
   "execution_count": 7,
   "metadata": {},
   "outputs": [
    {
     "name": "stdout",
     "output_type": "stream",
     "text": [
      "b'{\\n    \"header\": {\\n        \"type\": \"esummary\",\\n        \"version\": \"0.3\"\\n    },\\n    \"result\": {\\n        \"uids\": [\\n            \"27708327\"\\n        ],\\n        \"27708327\": {\\n            \"uid\": \"27708327\",\\n            \"pubdate\": \"2016 Oct 6\",\\n            \"epubdate\": \"\",\\n            \"source\": \"Nature\",\\n            \"authors\": [\\n                {\\n                    \"name\": \"Perkel J\",\\n                    \"authtype\": \"Author\",\\n                    \"clusterid\": \"\"\\n                }\\n            ],\\n            \"lastauthor\": \"Perkel J\",\\n            \"title\": \"Democratic databases: science on GitHub.\",\\n            \"sorttitle\": \"democratic databases science on github\",\\n            \"volume\": \"538\",\\n            \"issue\": \"7623\",\\n            \"pages\": \"127-128\",\\n            \"lang\": [\\n                \"eng\"\\n            ],\\n            \"nlmuniqueid\": \"0410462\",\\n            \"issn\": \"0028-0836\",\\n            \"essn\": \"1476-4687\",\\n            \"pubtype\": [\\n                \"Journal Article\"\\n            ],\\n            \"recordstatus\": \"PubMed - indexed for MEDLINE\",\\n            \"pubstatus\": \"4\",\\n            \"articleids\": [\\n                {\\n                    \"idtype\": \"pubmed\",\\n                    \"idtypen\": 1,\\n                    \"value\": \"27708327\"\\n                },\\n                {\\n                    \"idtype\": \"pii\",\\n                    \"idtypen\": 4,\\n                    \"value\": \"538127a\"\\n                },\\n                {\\n                    \"idtype\": \"doi\",\\n                    \"idtypen\": 3,\\n                    \"value\": \"10.1038/538127a\"\\n                },\\n                {\\n                    \"idtype\": \"rid\",\\n                    \"idtypen\": 8,\\n                    \"value\": \"27708327\"\\n                },\\n                {\\n                    \"idtype\": \"eid\",\\n                    \"idtypen\": 8,\\n                    \"value\": \"27708327\"\\n                }\\n            ],\\n            \"history\": [\\n                {\\n                    \"pubstatus\": \"entrez\",\\n                    \"date\": \"2016/10/07 06:00\"\\n                },\\n                {\\n                    \"pubstatus\": \"pubmed\",\\n                    \"date\": \"2016/10/07 06:00\"\\n                },\\n                {\\n                    \"pubstatus\": \"medline\",\\n                    \"date\": \"2016/11/03 06:00\"\\n                }\\n            ],\\n            \"references\": [\\n                {\\n                    \"refsource\": \"Nature. 2016 Oct 31;539(7627):126\",\\n                    \"reftype\": \"Erratum in\",\\n                    \"pmid\": 27808210,\\n                    \"note\": \"\"\\n                }\\n            ],\\n            \"attributes\": [\\n            ],\\n            \"pmcrefcount\": 5,\\n            \"fulljournalname\": \"Nature\",\\n            \"elocationid\": \"doi: 10.1038/538127a\",\\n            \"doctype\": \"citation\",\\n            \"srccontriblist\": [\\n            ],\\n            \"booktitle\": \"\",\\n            \"medium\": \"\",\\n            \"edition\": \"\",\\n            \"publisherlocation\": \"\",\\n            \"publishername\": \"\",\\n            \"srcdate\": \"\",\\n            \"reportnumber\": \"\",\\n            \"availablefromurl\": \"\",\\n            \"locationlabel\": \"\",\\n            \"doccontriblist\": [\\n            ],\\n            \"docdate\": \"\",\\n            \"bookname\": \"\",\\n            \"chapter\": \"\",\\n            \"sortpubdate\": \"2016/10/06 00:00\",\\n            \"sortfirstauthor\": \"Perkel J\",\\n            \"vernaculartitle\": \"\"\\n        }\\n    }\\n}\\n\\n'\n"
     ]
    }
   ],
   "source": [
    "print(ID_json_data)"
   ]
  },
  {
   "cell_type": "code",
   "execution_count": 8,
   "metadata": {},
   "outputs": [],
   "source": [
    "ID_data = json.loads(ID_json_data)"
   ]
  },
  {
   "cell_type": "code",
   "execution_count": 9,
   "metadata": {},
   "outputs": [
    {
     "data": {
      "text/plain": [
       "dict"
      ]
     },
     "execution_count": 9,
     "metadata": {},
     "output_type": "execute_result"
    }
   ],
   "source": [
    "type(ID_data)"
   ]
  },
  {
   "cell_type": "code",
   "execution_count": 10,
   "metadata": {},
   "outputs": [
    {
     "data": {
      "text/plain": [
       "dict_keys(['header', 'result'])"
      ]
     },
     "execution_count": 10,
     "metadata": {},
     "output_type": "execute_result"
    }
   ],
   "source": [
    "ID_data.keys()"
   ]
  },
  {
   "cell_type": "code",
   "execution_count": 11,
   "metadata": {},
   "outputs": [
    {
     "name": "stdout",
     "output_type": "stream",
     "text": [
      "{\n",
      "  \"header\": {\n",
      "    \"type\": \"esummary\",\n",
      "    \"version\": \"0.3\"\n",
      "  },\n",
      "  \"result\": {\n",
      "    \"uids\": [\n",
      "      \"27708327\"\n",
      "    ],\n",
      "    \"27708327\": {\n",
      "      \"uid\": \"27708327\",\n",
      "      \"pubdate\": \"2016 Oct 6\",\n",
      "      \"epubdate\": \"\",\n",
      "      \"source\": \"Nature\",\n",
      "      \"authors\": [\n",
      "        {\n",
      "          \"name\": \"Perkel J\",\n",
      "          \"authtype\": \"Author\",\n",
      "          \"clusterid\": \"\"\n",
      "        }\n",
      "      ],\n",
      "      \"lastauthor\": \"Perkel J\",\n",
      "      \"title\": \"Democratic databases: science on GitHub.\",\n",
      "      \"sorttitle\": \"democratic databases science on github\",\n",
      "      \"volume\": \"538\",\n",
      "      \"issue\": \"7623\",\n",
      "      \"pages\": \"127-128\",\n",
      "      \"lang\": [\n",
      "        \"eng\"\n",
      "      ],\n",
      "      \"nlmuniqueid\": \"0410462\",\n",
      "      \"issn\": \"0028-0836\",\n",
      "      \"essn\": \"1476-4687\",\n",
      "      \"pubtype\": [\n",
      "        \"Journal Article\"\n",
      "      ],\n",
      "      \"recordstatus\": \"PubMed - indexed for MEDLINE\",\n",
      "      \"pubstatus\": \"4\",\n",
      "      \"articleids\": [\n",
      "        {\n",
      "          \"idtype\": \"pubmed\",\n",
      "          \"idtypen\": 1,\n",
      "          \"value\": \"27708327\"\n",
      "        },\n",
      "        {\n",
      "          \"idtype\": \"pii\",\n",
      "          \"idtypen\": 4,\n",
      "          \"value\": \"538127a\"\n",
      "        },\n",
      "        {\n",
      "          \"idtype\": \"doi\",\n",
      "          \"idtypen\": 3,\n",
      "          \"value\": \"10.1038/538127a\"\n",
      "        },\n",
      "        {\n",
      "          \"idtype\": \"rid\",\n",
      "          \"idtypen\": 8,\n",
      "          \"value\": \"27708327\"\n",
      "        },\n",
      "        {\n",
      "          \"idtype\": \"eid\",\n",
      "          \"idtypen\": 8,\n",
      "          \"value\": \"27708327\"\n",
      "        }\n",
      "      ],\n",
      "      \"history\": [\n",
      "        {\n",
      "          \"pubstatus\": \"entrez\",\n",
      "          \"date\": \"2016/10/07 06:00\"\n",
      "        },\n",
      "        {\n",
      "          \"pubstatus\": \"pubmed\",\n",
      "          \"date\": \"2016/10/07 06:00\"\n",
      "        },\n",
      "        {\n",
      "          \"pubstatus\": \"medline\",\n",
      "          \"date\": \"2016/11/03 06:00\"\n",
      "        }\n",
      "      ],\n",
      "      \"references\": [\n",
      "        {\n",
      "          \"refsource\": \"Nature. 2016 Oct 31;539(7627):126\",\n",
      "          \"reftype\": \"Erratum in\",\n",
      "          \"pmid\": 27808210,\n",
      "          \"note\": \"\"\n",
      "        }\n",
      "      ],\n",
      "      \"attributes\": [],\n",
      "      \"pmcrefcount\": 5,\n",
      "      \"fulljournalname\": \"Nature\",\n",
      "      \"elocationid\": \"doi: 10.1038/538127a\",\n",
      "      \"doctype\": \"citation\",\n",
      "      \"srccontriblist\": [],\n",
      "      \"booktitle\": \"\",\n",
      "      \"medium\": \"\",\n",
      "      \"edition\": \"\",\n",
      "      \"publisherlocation\": \"\",\n",
      "      \"publishername\": \"\",\n",
      "      \"srcdate\": \"\",\n",
      "      \"reportnumber\": \"\",\n",
      "      \"availablefromurl\": \"\",\n",
      "      \"locationlabel\": \"\",\n",
      "      \"doccontriblist\": [],\n",
      "      \"docdate\": \"\",\n",
      "      \"bookname\": \"\",\n",
      "      \"chapter\": \"\",\n",
      "      \"sortpubdate\": \"2016/10/06 00:00\",\n",
      "      \"sortfirstauthor\": \"Perkel J\",\n",
      "      \"vernaculartitle\": \"\"\n",
      "    }\n",
      "  }\n",
      "}\n"
     ]
    }
   ],
   "source": [
    "print(json.dumps(ID_data, indent=2))"
   ]
  },
  {
   "cell_type": "code",
   "execution_count": 12,
   "metadata": {},
   "outputs": [
    {
     "data": {
      "text/plain": [
       "dict"
      ]
     },
     "execution_count": 12,
     "metadata": {},
     "output_type": "execute_result"
    }
   ],
   "source": [
    "type(ID_data[\"result\"])"
   ]
  },
  {
   "cell_type": "code",
   "execution_count": 13,
   "metadata": {},
   "outputs": [
    {
     "data": {
      "text/plain": [
       "dict_keys(['uids', '27708327'])"
      ]
     },
     "execution_count": 13,
     "metadata": {},
     "output_type": "execute_result"
    }
   ],
   "source": [
    "ID_data[\"result\"].keys()"
   ]
  },
  {
   "cell_type": "code",
   "execution_count": 14,
   "metadata": {},
   "outputs": [
    {
     "data": {
      "text/plain": [
       "dict_keys(['uid', 'pubdate', 'epubdate', 'source', 'authors', 'lastauthor', 'title', 'sorttitle', 'volume', 'issue', 'pages', 'lang', 'nlmuniqueid', 'issn', 'essn', 'pubtype', 'recordstatus', 'pubstatus', 'articleids', 'history', 'references', 'attributes', 'pmcrefcount', 'fulljournalname', 'elocationid', 'doctype', 'srccontriblist', 'booktitle', 'medium', 'edition', 'publisherlocation', 'publishername', 'srcdate', 'reportnumber', 'availablefromurl', 'locationlabel', 'doccontriblist', 'docdate', 'bookname', 'chapter', 'sortpubdate', 'sortfirstauthor', 'vernaculartitle'])"
      ]
     },
     "execution_count": 14,
     "metadata": {},
     "output_type": "execute_result"
    }
   ],
   "source": [
    "ID_data[\"result\"][\"27708327\"].keys()"
   ]
  },
  {
   "cell_type": "code",
   "execution_count": 15,
   "metadata": {},
   "outputs": [
    {
     "data": {
      "text/plain": [
       "'Democratic databases: science on GitHub.'"
      ]
     },
     "execution_count": 15,
     "metadata": {},
     "output_type": "execute_result"
    }
   ],
   "source": [
    "ID_data[\"result\"][\"27708327\"][\"title\"]"
   ]
  },
  {
   "cell_type": "code",
   "execution_count": 16,
   "metadata": {},
   "outputs": [
    {
     "data": {
      "text/plain": [
       "'2016 Oct 6'"
      ]
     },
     "execution_count": 16,
     "metadata": {},
     "output_type": "execute_result"
    }
   ],
   "source": [
    "ID_data[\"result\"][\"27708327\"][\"pubdate\"]"
   ]
  },
  {
   "cell_type": "code",
   "execution_count": 142,
   "metadata": {},
   "outputs": [
    {
     "name": "stdout",
     "output_type": "stream",
     "text": [
      "31452104\n",
      "2019\n",
      "Molegro Virtual Docker for Docking.\n",
      "\n",
      "31437182\n",
      "2019\n",
      "TreeCluster: Clustering biological sequences using phylogenetic trees.\n",
      "\n",
      "31455877\n",
      "2019 Aug 27\n",
      "Principles of open source bioinstrumentation applied to the poseidon syringe pump system.\n",
      "\n",
      "31535994\n",
      "2019 Sep 16\n",
      "Aggregation Signature for Small Object Tracking.\n",
      "\n"
     ]
    }
   ],
   "source": [
    "base_url = \"https://eutils.ncbi.nlm.nih.gov/entrez/eutils/esummary.fcgi?db=pubmed&retmode=json&id=\"\n",
    "IDs = [\"31452104\", \n",
    "       \"31437182\",\n",
    "       \"31455877\",\n",
    "       \"31535994\"]\n",
    "\n",
    "for ID in IDs:\n",
    "    full_url = base_url + ID\n",
    "    ID_json_data = urllib.request.urlopen(full_url).read()\n",
    "    ID_data = json.loads(ID_json_data)\n",
    "    aaa = print(ID)\n",
    "    bbb = print(ID_data[\"result\"][ID][\"pubdate\"])\n",
    "    ccc = print(ID_data[\"result\"][ID][\"title\"])\n",
    "    ddd = print()\n",
    "    sentence = (f'{aaa}{bbb}{ccc}{ddd}')\n",
    "\n",
    "    sentence"
   ]
  },
  {
   "cell_type": "code",
   "execution_count": null,
   "metadata": {},
   "outputs": [],
   "source": []
  }
 ],
 "metadata": {
  "kernelspec": {
   "display_name": "Python 3",
   "language": "python",
   "name": "python3"
  },
  "language_info": {
   "codemirror_mode": {
    "name": "ipython",
    "version": 3
   },
   "file_extension": ".py",
   "mimetype": "text/x-python",
   "name": "python",
   "nbconvert_exporter": "python",
   "pygments_lexer": "ipython3",
   "version": "3.7.3"
  }
 },
 "nbformat": 4,
 "nbformat_minor": 2
}
